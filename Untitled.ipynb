{
 "cells": [
  {
   "cell_type": "code",
   "execution_count": null,
   "id": "timely-manitoba",
   "metadata": {},
   "outputs": [],
   "source": [
    "from thorlabs_apt_device import APTDevice, BSC201, find_device, list_devices, EndPoint, protocol\n",
    "from serial.tools import list_ports\n",
    "import logging\n",
    "logging.basicConfig(level=logging.DEBUG)"
   ]
  },
  {
   "cell_type": "code",
   "execution_count": null,
   "id": "micro-supply",
   "metadata": {},
   "outputs": [],
   "source": [
    "print(list_devices())"
   ]
  },
  {
   "cell_type": "code",
   "execution_count": null,
   "id": "answering-ratio",
   "metadata": {},
   "outputs": [],
   "source": [
    "find_device(manufacturer=\"Thorlabs\")"
   ]
  },
  {
   "cell_type": "code",
   "execution_count": null,
   "id": "narrow-burning",
   "metadata": {},
   "outputs": [],
   "source": [
    "stage = BSC201(home=False)\n",
    "\n",
    "def error_callback(source, msgid, code, notes):\n",
    "    print(\"ERROR: \", source, msgid, code, notes)\n",
    "stage.register_error_callback(error_callback)\n"
   ]
  },
  {
   "cell_type": "code",
   "execution_count": null,
   "id": "monetary-cigarette",
   "metadata": {},
   "outputs": [],
   "source": [
    "stage.identify()"
   ]
  },
  {
   "cell_type": "code",
   "execution_count": null,
   "id": "yellow-sport",
   "metadata": {},
   "outputs": [],
   "source": [
    "stage._write(protocol.rack_req_bayused(EndPoint.RACK, EndPoint.HOST, 4))"
   ]
  },
  {
   "cell_type": "code",
   "execution_count": null,
   "id": "attended-saturn",
   "metadata": {},
   "outputs": [],
   "source": [
    "stage.home()"
   ]
  },
  {
   "cell_type": "code",
   "execution_count": null,
   "id": "proved-boundary",
   "metadata": {},
   "outputs": [],
   "source": [
    "stage._write(protocol.mot_req_statusupdate(EndPoint.BAY0, EndPoint.HOST, 1))"
   ]
  },
  {
   "cell_type": "code",
   "execution_count": null,
   "id": "whole-samuel",
   "metadata": {},
   "outputs": [],
   "source": [
    "stage.status_"
   ]
  },
  {
   "cell_type": "code",
   "execution_count": null,
   "id": "under-dealer",
   "metadata": {},
   "outputs": [],
   "source": [
    "stage.close()"
   ]
  },
  {
   "cell_type": "code",
   "execution_count": null,
   "id": "scenic-graham",
   "metadata": {},
   "outputs": [],
   "source": [
    "import serial\n",
    "\n",
    "device = serial.Serial(\"/dev/ttyUSB0\",\n",
    "                       baudrate=115200,\n",
    "                       bytesize=serial.EIGHTBITS,\n",
    "                       parity=serial.PARITY_NONE,\n",
    "                       stopbits=serial.STOPBITS_ONE,\n",
    "                       rtscts=True,\n",
    "                       timeout=0.1)"
   ]
  },
  {
   "cell_type": "code",
   "execution_count": null,
   "id": "statutory-serial",
   "metadata": {},
   "outputs": [],
   "source": [
    "device.read(6)"
   ]
  },
  {
   "cell_type": "code",
   "execution_count": null,
   "id": "emerging-parameter",
   "metadata": {},
   "outputs": [],
   "source": [
    "unpacker = protocol.Unpacker(device, on_error=\"warn\")"
   ]
  },
  {
   "cell_type": "code",
   "execution_count": null,
   "id": "thousand-innocent",
   "metadata": {},
   "outputs": [],
   "source": [
    "device.write(protocol.mod_identify(EndPoint.RACK, EndPoint.HOST, 1))"
   ]
  },
  {
   "cell_type": "code",
   "execution_count": null,
   "id": "humanitarian-treasury",
   "metadata": {},
   "outputs": [],
   "source": [
    "device.write(protocol.hw_req_info(EndPoint.BAY0, EndPoint.HOST))"
   ]
  },
  {
   "cell_type": "code",
   "execution_count": null,
   "id": "level-valuable",
   "metadata": {},
   "outputs": [],
   "source": [
    "device.write(protocol.mot_req_statusupdate(EndPoint.BAY0, EndPoint.HOST, 1))"
   ]
  },
  {
   "cell_type": "code",
   "execution_count": null,
   "id": "looking-balloon",
   "metadata": {},
   "outputs": [],
   "source": [
    "device.write(protocol.mot_req_velparams(dest=EndPoint.BAY0, source=EndPoint.HOST, chan_ident=1))"
   ]
  },
  {
   "cell_type": "code",
   "execution_count": null,
   "id": "fluid-legislation",
   "metadata": {},
   "outputs": [],
   "source": [
    "device.write(protocol.mot_req_genmoveparams(dest=EndPoint.BAY0, source=EndPoint.HOST, chan_ident=1))"
   ]
  },
  {
   "cell_type": "code",
   "execution_count": null,
   "id": "naval-picking",
   "metadata": {},
   "outputs": [],
   "source": [
    "device.write(protocol.mot_req_jogparams(dest=EndPoint.BAY0, source=EndPoint.HOST, chan_ident=1))"
   ]
  },
  {
   "cell_type": "code",
   "execution_count": null,
   "id": "virtual-python",
   "metadata": {},
   "outputs": [],
   "source": [
    "device.write(protocol.mod_set_chanenablestate(dest=EndPoint.BAY0, source=EndPoint.HOST, chan_ident=1, enable_state=1))"
   ]
  },
  {
   "cell_type": "code",
   "execution_count": null,
   "id": "spoken-struggle",
   "metadata": {},
   "outputs": [],
   "source": [
    "device.write(protocol.hw_start_updatemsgs(dest=EndPoint.BAY0, source=EndPoint.HOST))"
   ]
  },
  {
   "cell_type": "code",
   "execution_count": null,
   "id": "interstate-spending",
   "metadata": {},
   "outputs": [],
   "source": [
    "device.write(protocol.mot_move_home(dest=EndPoint.BAY0, source=EndPoint.HOST, chan_ident=1))"
   ]
  },
  {
   "cell_type": "code",
   "execution_count": null,
   "id": "heard-forge",
   "metadata": {},
   "outputs": [],
   "source": [
    "device.write(b\"\\x92\\x04\\x00\\x00\\x11\\x01\")"
   ]
  },
  {
   "cell_type": "code",
   "execution_count": null,
   "id": "israeli-respect",
   "metadata": {},
   "outputs": [],
   "source": []
  },
  {
   "cell_type": "code",
   "execution_count": null,
   "id": "elegant-allowance",
   "metadata": {},
   "outputs": [],
   "source": [
    "for msg in unpacker:\n",
    "    print(f\"Received message: {msg}\")"
   ]
  },
  {
   "cell_type": "code",
   "execution_count": null,
   "id": "lined-input",
   "metadata": {},
   "outputs": [],
   "source": []
  },
  {
   "cell_type": "code",
   "execution_count": null,
   "id": "genuine-wells",
   "metadata": {},
   "outputs": [],
   "source": []
  },
  {
   "cell_type": "code",
   "execution_count": null,
   "id": "senior-accused",
   "metadata": {},
   "outputs": [],
   "source": []
  },
  {
   "cell_type": "code",
   "execution_count": null,
   "id": "magnetic-electronics",
   "metadata": {},
   "outputs": [],
   "source": []
  },
  {
   "cell_type": "code",
   "execution_count": null,
   "id": "balanced-opinion",
   "metadata": {},
   "outputs": [],
   "source": [
    "device.write(protocol.rack_req_bayused(EndPoint.RACK, EndPoint.HOST, 0))"
   ]
  },
  {
   "cell_type": "code",
   "execution_count": null,
   "id": "charitable-regulation",
   "metadata": {},
   "outputs": [],
   "source": [
    "device.write(protocol.hw_no_flash_programming(EndPoint.RACK, EndPoint.HOST))"
   ]
  },
  {
   "cell_type": "code",
   "execution_count": null,
   "id": "designed-disposal",
   "metadata": {},
   "outputs": [],
   "source": [
    "for b in device.read(size=6):\n",
    "    print(f\"{b:#04x} \", end=\"\")"
   ]
  },
  {
   "cell_type": "code",
   "execution_count": null,
   "id": "induced-rapid",
   "metadata": {},
   "outputs": [],
   "source": [
    "|"
   ]
  },
  {
   "cell_type": "code",
   "execution_count": null,
   "id": "olympic-mechanism",
   "metadata": {},
   "outputs": [],
   "source": [
    "for b in protocol.mot_ack_dcstatusupdate(EndPoint.RACK, EndPoint.HOST):\n",
    "    print(f\"{b:#04x} \", end=\"\")"
   ]
  },
  {
   "cell_type": "code",
   "execution_count": null,
   "id": "fifteen-madagascar",
   "metadata": {},
   "outputs": [],
   "source": [
    "device.close()"
   ]
  },
  {
   "cell_type": "code",
   "execution_count": null,
   "id": "universal-zimbabwe",
   "metadata": {},
   "outputs": [],
   "source": [
    "\n",
    "b=b\"5f\\x24\\x84\"\n",
    "print(b)\n",
    "print(b.hex(sep=\" \"))\n",
    "for x in b:\n",
    "    print(f\"{x:#04x} \", end=\"\")"
   ]
  },
  {
   "cell_type": "code",
   "execution_count": null,
   "id": "dimensional-banking",
   "metadata": {},
   "outputs": [],
   "source": []
  }
 ],
 "metadata": {
  "kernelspec": {
   "display_name": "Python 3",
   "language": "python",
   "name": "python3"
  },
  "language_info": {
   "codemirror_mode": {
    "name": "ipython",
    "version": 3
   },
   "file_extension": ".py",
   "mimetype": "text/x-python",
   "name": "python",
   "nbconvert_exporter": "python",
   "pygments_lexer": "ipython3",
   "version": "3.9.5"
  }
 },
 "nbformat": 4,
 "nbformat_minor": 5
}
